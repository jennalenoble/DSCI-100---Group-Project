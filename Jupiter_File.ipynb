{
 "cells": [
  {
   "cell_type": "markdown",
   "id": "7df7333d-0991-46db-909a-26056be717f3",
   "metadata": {},
   "source": [
    "# DSCI 100 - Group Project\n",
    "\n",
    "## 1. Introduction"
   ]
  },
  {
   "cell_type": "code",
   "execution_count": 7,
   "id": "c3198388-7e83-44a7-9670-f8608ece62dc",
   "metadata": {},
   "outputs": [],
   "source": [
    "library(tidyverse)"
   ]
  },
  {
   "cell_type": "code",
   "execution_count": null,
   "id": "efca6aa8-2386-436a-9adb-5e5aee6b79bd",
   "metadata": {},
   "outputs": [],
   "source": []
  }
 ],
 "metadata": {
  "kernelspec": {
   "display_name": "R",
   "language": "R",
   "name": "ir"
  },
  "language_info": {
   "codemirror_mode": "r",
   "file_extension": ".r",
   "mimetype": "text/x-r-source",
   "name": "R",
   "pygments_lexer": "r",
   "version": "4.1.3"
  }
 },
 "nbformat": 4,
 "nbformat_minor": 5
}
